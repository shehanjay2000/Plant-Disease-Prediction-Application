{
 "cells": [
  {
   "cell_type": "code",
   "execution_count": 4,
   "id": "e7f955b6",
   "metadata": {},
   "outputs": [],
   "source": [
    "import tensorflow as tf\n",
    "import matplotlib.pyplot as plt\n",
    "import pandas as pd\n",
    "import seaborn as sns"
   ]
  },
  {
   "cell_type": "code",
   "execution_count": 2,
   "id": "2d229449",
   "metadata": {},
   "outputs": [],
   "source": [
    "import tensorflow as tf\n",
    "\n",
    "gpus = tf.config.experimental.list_physical_devices('GPU')\n",
    "if gpus:\n",
    "    try:\n",
    "        for gpu in gpus:\n",
    "            tf.config.experimental.set_memory_growth(gpu, True)\n",
    "    except RuntimeError as e:\n",
    "        print(e)\n"
   ]
  },
  {
   "cell_type": "code",
   "execution_count": 3,
   "id": "b775dd81",
   "metadata": {},
   "outputs": [
    {
     "name": "stdout",
     "output_type": "stream",
     "text": [
      "[PhysicalDevice(name='/physical_device:GPU:0', device_type='GPU')]\n"
     ]
    }
   ],
   "source": [
    "print(tf.config.list_physical_devices('GPU'))"
   ]
  },
  {
   "cell_type": "markdown",
   "id": "421465da",
   "metadata": {},
   "source": [
    "## Data Preprocessing\n",
    "### Preprocessed by ITBIN-2211-0233"
   ]
  },
  {
   "cell_type": "markdown",
   "id": "34d97a87",
   "metadata": {},
   "source": [
    "Training Image Preprocessing"
   ]
  },
  {
   "cell_type": "code",
   "execution_count": 5,
   "id": "e7c58cae",
   "metadata": {},
   "outputs": [
    {
     "name": "stdout",
     "output_type": "stream",
     "text": [
      "Found 70295 files belonging to 38 classes.\n"
     ]
    }
   ],
   "source": [
    "training_set = tf.keras.utils.image_dataset_from_directory(\n",
    "    'train',\n",
    "    labels=\"inferred\",\n",
    "    label_mode=\"categorical\",\n",
    "    class_names=None,\n",
    "    color_mode=\"rgb\",\n",
    "    batch_size=32,\n",
    "    image_size=(128, 128),\n",
    "    shuffle=True,\n",
    "    seed=None,\n",
    "    validation_split=None,\n",
    "    subset=None,\n",
    "    interpolation=\"bilinear\",\n",
    "    follow_links=False,\n",
    "    crop_to_aspect_ratio=False,\n",
    ")"
   ]
  },
  {
   "cell_type": "markdown",
   "id": "1d2124ce",
   "metadata": {},
   "source": [
    "Validation Image Preprocessing"
   ]
  },
  {
   "cell_type": "code",
   "execution_count": 6,
   "id": "7959130e",
   "metadata": {},
   "outputs": [
    {
     "name": "stdout",
     "output_type": "stream",
     "text": [
      "Found 17572 files belonging to 38 classes.\n"
     ]
    }
   ],
   "source": [
    "validation_set = tf.keras.utils.image_dataset_from_directory(\n",
    "    'valid',\n",
    "    labels=\"inferred\",\n",
    "    label_mode=\"categorical\",\n",
    "    class_names=None,\n",
    "    color_mode=\"rgb\",\n",
    "    batch_size=32,\n",
    "    image_size=(128, 128),\n",
    "    shuffle=True,\n",
    "    seed=None,\n",
    "    validation_split=None,\n",
    "    subset=None,\n",
    "    interpolation=\"bilinear\",\n",
    "    follow_links=False,\n",
    "    crop_to_aspect_ratio=False,\n",
    ")"
   ]
  },
  {
   "cell_type": "code",
   "execution_count": 7,
   "id": "3d39e26c",
   "metadata": {},
   "outputs": [
    {
     "data": {
      "text/plain": [
       "<BatchDataset element_spec=(TensorSpec(shape=(None, 128, 128, 3), dtype=tf.float32, name=None), TensorSpec(shape=(None, 38), dtype=tf.float32, name=None))>"
      ]
     },
     "execution_count": 7,
     "metadata": {},
     "output_type": "execute_result"
    }
   ],
   "source": [
    "training_set"
   ]
  },
  {
   "cell_type": "code",
   "execution_count": 8,
   "id": "b0612131",
   "metadata": {},
   "outputs": [
    {
     "name": "stdout",
     "output_type": "stream",
     "text": [
      "tf.Tensor(\n",
      "[[[[125.5  105.5  104.5 ]\n",
      "   [131.25 111.25 110.25]\n",
      "   [129.75 109.75 108.75]\n",
      "   ...\n",
      "   [127.5  107.5  108.5 ]\n",
      "   [122.   102.   103.  ]\n",
      "   [109.5   89.5   90.5 ]]\n",
      "\n",
      "  [[122.   102.   101.  ]\n",
      "   [130.75 110.75 109.75]\n",
      "   [127.   107.   106.  ]\n",
      "   ...\n",
      "   [115.    95.    96.  ]\n",
      "   [114.    94.    95.  ]\n",
      "   [121.5  101.5  102.5 ]]\n",
      "\n",
      "  [[124.5  104.5  103.5 ]\n",
      "   [121.5  101.5  100.5 ]\n",
      "   [126.5  106.5  105.5 ]\n",
      "   ...\n",
      "   [120.5  100.5  101.5 ]\n",
      "   [118.75  98.75  99.75]\n",
      "   [117.5   97.5   98.5 ]]\n",
      "\n",
      "  ...\n",
      "\n",
      "  [[167.25 147.25 148.25]\n",
      "   [172.5  152.5  153.5 ]\n",
      "   [169.   149.   150.  ]\n",
      "   ...\n",
      "   [167.5  147.5  148.5 ]\n",
      "   [167.75 147.75 148.75]\n",
      "   [169.25 149.25 150.25]]\n",
      "\n",
      "  [[168.5  148.5  149.5 ]\n",
      "   [159.25 139.25 140.25]\n",
      "   [159.5  139.5  140.5 ]\n",
      "   ...\n",
      "   [173.   153.   154.  ]\n",
      "   [179.25 159.25 160.25]\n",
      "   [179.5  159.5  160.5 ]]\n",
      "\n",
      "  [[160.   140.   141.  ]\n",
      "   [161.25 141.25 142.25]\n",
      "   [165.75 145.75 146.75]\n",
      "   ...\n",
      "   [172.25 152.25 153.25]\n",
      "   [164.5  144.5  145.5 ]\n",
      "   [170.75 150.75 151.75]]]\n",
      "\n",
      "\n",
      " [[[139.25 129.25 120.25]\n",
      "   [130.5  120.5  111.5 ]\n",
      "   [142.   132.   123.  ]\n",
      "   ...\n",
      "   [177.75 171.75 159.75]\n",
      "   [178.75 172.75 160.75]\n",
      "   [177.5  171.5  159.5 ]]\n",
      "\n",
      "  [[132.   122.   113.  ]\n",
      "   [137.75 127.75 118.75]\n",
      "   [132.75 122.75 113.75]\n",
      "   ...\n",
      "   [181.   175.   163.  ]\n",
      "   [181.   175.   163.  ]\n",
      "   [179.75 173.75 161.75]]\n",
      "\n",
      "  [[138.   128.   119.  ]\n",
      "   [136.25 126.25 117.25]\n",
      "   [136.75 126.75 117.75]\n",
      "   ...\n",
      "   [178.5  172.5  160.5 ]\n",
      "   [181.75 175.75 163.75]\n",
      "   [185.   179.   167.  ]]\n",
      "\n",
      "  ...\n",
      "\n",
      "  [[133.25 124.25 115.25]\n",
      "   [146.75 137.75 128.75]\n",
      "   [149.75 140.75 131.75]\n",
      "   ...\n",
      "   [208.   209.   204.  ]\n",
      "   [210.75 211.75 206.75]\n",
      "   [213.5  214.5  209.5 ]]\n",
      "\n",
      "  [[169.   160.   151.  ]\n",
      "   [155.   146.   137.  ]\n",
      "   [144.5  135.5  126.5 ]\n",
      "   ...\n",
      "   [208.25 209.25 204.25]\n",
      "   [212.   213.   208.  ]\n",
      "   [215.5  216.5  211.5 ]]\n",
      "\n",
      "  [[151.75 142.75 133.75]\n",
      "   [152.   143.   134.  ]\n",
      "   [155.25 146.25 137.25]\n",
      "   ...\n",
      "   [212.   213.   208.  ]\n",
      "   [214.25 215.25 210.25]\n",
      "   [217.25 218.25 213.25]]]\n",
      "\n",
      "\n",
      " [[[168.5  148.5  147.5 ]\n",
      "   [166.   146.   145.  ]\n",
      "   [163.5  145.5  143.5 ]\n",
      "   ...\n",
      "   [188.5  170.5  168.5 ]\n",
      "   [193.5  175.5  173.5 ]\n",
      "   [187.75 169.75 167.75]]\n",
      "\n",
      "  [[171.   153.   151.  ]\n",
      "   [168.75 150.75 148.75]\n",
      "   [164.5  146.5  144.5 ]\n",
      "   ...\n",
      "   [183.75 165.75 163.75]\n",
      "   [165.75 147.75 145.75]\n",
      "   [187.75 169.75 167.75]]\n",
      "\n",
      "  [[166.75 148.75 146.75]\n",
      "   [167.5  149.5  147.5 ]\n",
      "   [161.75 141.75 140.75]\n",
      "   ...\n",
      "   [183.25 165.25 163.25]\n",
      "   [186.75 168.75 166.75]\n",
      "   [177.5  159.5  157.5 ]]\n",
      "\n",
      "  ...\n",
      "\n",
      "  [[146.   131.   136.  ]\n",
      "   [147.75 132.75 137.75]\n",
      "   [130.25 115.25 120.25]\n",
      "   ...\n",
      "   [158.5  139.5  141.5 ]\n",
      "   [149.   130.   132.  ]\n",
      "   [152.25 133.25 135.25]]\n",
      "\n",
      "  [[141.   126.   131.  ]\n",
      "   [161.25 146.25 151.25]\n",
      "   [139.5  124.5  129.5 ]\n",
      "   ...\n",
      "   [153.   134.   136.  ]\n",
      "   [155.25 136.25 138.25]\n",
      "   [141.25 122.25 124.25]]\n",
      "\n",
      "  [[145.25 130.25 135.25]\n",
      "   [143.   128.   133.  ]\n",
      "   [144.75 129.75 134.75]\n",
      "   ...\n",
      "   [156.75 137.75 139.75]\n",
      "   [144.5  125.5  127.5 ]\n",
      "   [152.25 133.25 135.25]]]\n",
      "\n",
      "\n",
      " ...\n",
      "\n",
      "\n",
      " [[[113.5  175.5  126.5 ]\n",
      "   [109.5  171.5  122.5 ]\n",
      "   [106.75 168.75 121.75]\n",
      "   ...\n",
      "   [ 84.5  148.5   11.5 ]\n",
      "   [ 83.75 147.75  10.75]\n",
      "   [ 83.25 147.25  10.25]]\n",
      "\n",
      "  [[107.   168.75 122.5 ]\n",
      "   [105.   166.5  121.  ]\n",
      "   [103.5  164.5  120.5 ]\n",
      "   ...\n",
      "   [ 90.   155.    28.25]\n",
      "   [ 89.25 154.25  27.5 ]\n",
      "   [ 88.5  153.5   26.75]]\n",
      "\n",
      "  [[106.   167.   124.5 ]\n",
      "   [106.75 167.75 125.75]\n",
      "   [106.75 167.75 125.75]\n",
      "   ...\n",
      "   [ 80.5  146.5   36.25]\n",
      "   [ 79.5  145.5   35.25]\n",
      "   [ 79.   145.    34.75]]\n",
      "\n",
      "  ...\n",
      "\n",
      "  [[163.25 205.25 193.25]\n",
      "   [163.5  205.5  193.5 ]\n",
      "   [163.75 205.75 193.75]\n",
      "   ...\n",
      "   [150.5  193.5  173.5 ]\n",
      "   [159.   202.   182.  ]\n",
      "   [164.   207.   187.  ]]\n",
      "\n",
      "  [[157.   199.   187.  ]\n",
      "   [163.   205.   193.  ]\n",
      "   [163.75 205.75 193.75]\n",
      "   ...\n",
      "   [163.25 206.25 186.25]\n",
      "   [158.25 201.25 181.25]\n",
      "   [162.5  205.5  185.5 ]]\n",
      "\n",
      "  [[157.   199.   187.  ]\n",
      "   [159.5  201.5  189.5 ]\n",
      "   [170.25 212.25 200.25]\n",
      "   ...\n",
      "   [173.25 216.25 196.25]\n",
      "   [179.75 222.75 202.75]\n",
      "   [186.25 229.25 209.25]]]\n",
      "\n",
      "\n",
      " [[[135.   136.   154.  ]\n",
      "   [138.25 139.25 157.25]\n",
      "   [140.75 141.75 159.75]\n",
      "   ...\n",
      "   [119.5  121.5  142.5 ]\n",
      "   [120.25 122.25 143.25]\n",
      "   [118.5  120.5  141.5 ]]\n",
      "\n",
      "  [[137.5  138.5  156.5 ]\n",
      "   [139.25 140.25 158.25]\n",
      "   [139.25 140.25 158.25]\n",
      "   ...\n",
      "   [123.   125.   146.  ]\n",
      "   [125.   127.   148.  ]\n",
      "   [124.5  126.5  147.5 ]]\n",
      "\n",
      "  [[136.75 137.75 155.75]\n",
      "   [137.75 138.75 156.75]\n",
      "   [137.25 138.25 156.25]\n",
      "   ...\n",
      "   [122.25 124.25 145.25]\n",
      "   [124.75 126.75 147.75]\n",
      "   [124.25 126.25 147.25]]\n",
      "\n",
      "  ...\n",
      "\n",
      "  [[ 70.    68.    82.  ]\n",
      "   [ 72.75  70.75  84.75]\n",
      "   [ 74.5   72.5   86.5 ]\n",
      "   ...\n",
      "   [ 81.    82.   102.  ]\n",
      "   [ 81.75  82.75 102.75]\n",
      "   [ 89.5   90.5  110.5 ]]\n",
      "\n",
      "  [[ 74.    72.    86.  ]\n",
      "   [ 74.25  72.25  86.25]\n",
      "   [ 69.5   67.5   81.5 ]\n",
      "   ...\n",
      "   [ 86.75  87.75 107.75]\n",
      "   [ 85.25  86.25 106.25]\n",
      "   [ 82.5   83.5  103.5 ]]\n",
      "\n",
      "  [[ 68.25  66.25  80.25]\n",
      "   [ 73.    71.    85.  ]\n",
      "   [ 80.25  78.25  92.25]\n",
      "   ...\n",
      "   [ 81.25  82.25 102.25]\n",
      "   [ 86.5   87.5  107.5 ]\n",
      "   [ 90.5   91.5  111.5 ]]]\n",
      "\n",
      "\n",
      " [[[141.   129.   129.  ]\n",
      "   [135.   123.   123.  ]\n",
      "   [135.25 123.25 123.25]\n",
      "   ...\n",
      "   [174.5  164.5  163.5 ]\n",
      "   [171.5  161.5  160.5 ]\n",
      "   [183.   173.   172.  ]]\n",
      "\n",
      "  [[133.25 121.25 121.25]\n",
      "   [123.5  111.5  111.5 ]\n",
      "   [133.5  121.5  121.5 ]\n",
      "   ...\n",
      "   [182.5  172.5  171.5 ]\n",
      "   [175.   165.   164.  ]\n",
      "   [176.5  166.5  165.5 ]]\n",
      "\n",
      "  [[131.25 119.25 119.25]\n",
      "   [125.   113.   113.  ]\n",
      "   [127.   115.   115.  ]\n",
      "   ...\n",
      "   [181.75 171.75 170.75]\n",
      "   [167.5  157.5  156.5 ]\n",
      "   [178.25 168.25 167.25]]\n",
      "\n",
      "  ...\n",
      "\n",
      "  [[129.   117.   117.  ]\n",
      "   [142.75 130.75 130.75]\n",
      "   [134.75 122.75 122.75]\n",
      "   ...\n",
      "   [160.5  148.5  152.5 ]\n",
      "   [152.   140.   144.  ]\n",
      "   [164.5  152.5  156.5 ]]\n",
      "\n",
      "  [[136.75 124.75 124.75]\n",
      "   [138.75 126.75 126.75]\n",
      "   [124.5  112.5  112.5 ]\n",
      "   ...\n",
      "   [175.75 163.75 167.75]\n",
      "   [171.5  159.5  163.5 ]\n",
      "   [161.25 149.25 153.25]]\n",
      "\n",
      "  [[127.5  115.5  115.5 ]\n",
      "   [140.25 128.25 128.25]\n",
      "   [139.   127.   127.  ]\n",
      "   ...\n",
      "   [166.75 154.75 158.75]\n",
      "   [149.75 137.75 141.75]\n",
      "   [171.75 159.75 163.75]]]], shape=(32, 128, 128, 3), dtype=float32) (32, 128, 128, 3)\n",
      "tf.Tensor(\n",
      "[[0. 0. 0. ... 0. 0. 0.]\n",
      " [0. 0. 0. ... 0. 0. 0.]\n",
      " [0. 0. 0. ... 0. 0. 0.]\n",
      " ...\n",
      " [0. 0. 0. ... 0. 0. 0.]\n",
      " [0. 0. 0. ... 0. 0. 0.]\n",
      " [0. 0. 0. ... 0. 0. 0.]], shape=(32, 38), dtype=float32) (32, 38)\n"
     ]
    }
   ],
   "source": [
    "for x,y in training_set:\n",
    "    print(x,x.shape)\n",
    "    print(y,y.shape)\n",
    "    break"
   ]
  },
  {
   "cell_type": "markdown",
   "id": "ba0574cd",
   "metadata": {},
   "source": [
    "Building Model"
   ]
  },
  {
   "cell_type": "code",
   "execution_count": 9,
   "id": "a49567a6",
   "metadata": {},
   "outputs": [],
   "source": [
    "\n",
    "from keras.layers import Dense,Conv2D,MaxPool2D,Flatten,Dropout\n",
    "from keras.models import Sequential\n",
    "\n"
   ]
  },
  {
   "cell_type": "code",
   "execution_count": 10,
   "id": "2f12524c",
   "metadata": {},
   "outputs": [],
   "source": [
    "model = Sequential()"
   ]
  },
  {
   "cell_type": "markdown",
   "id": "a1aa39d9",
   "metadata": {},
   "source": [
    "###  To avoid overshooting\n",
    "\n",
    "1.Choose default learning rate as 0.0001\n",
    "\n",
    "2.There may be chance of underfitting, so increase the number of neurons\n",
    "\n",
    "3.Add more convolution layer to extrat more feature from images, there may be some posibility that model unable to capture relevent feature or model is confusing due to lack of feature. so feed with more feature.\n"
   ]
  },
  {
   "cell_type": "markdown",
   "id": "e51badae",
   "metadata": {},
   "source": [
    "## Building convalution Layer\n",
    "BUILD BY ITBIN-2211-0256"
   ]
  },
  {
   "cell_type": "code",
   "execution_count": 11,
   "id": "44b77713",
   "metadata": {},
   "outputs": [],
   "source": [
    "model.add(Conv2D(filters=32,kernel_size=3,padding='same',activation='relu', input_shape=(128, 128, 3)))\n",
    "model.add(Conv2D(filters=32,kernel_size=3,activation='relu'))\n",
    "model.add(MaxPool2D(pool_size=2,strides=2))"
   ]
  },
  {
   "cell_type": "code",
   "execution_count": 12,
   "id": "fcace08d",
   "metadata": {},
   "outputs": [],
   "source": [
    "model.add(Conv2D(filters=64,kernel_size=3,padding='same',activation='relu'))\n",
    "model.add(Conv2D(filters=64,kernel_size=3,activation='relu'))\n",
    "model.add(MaxPool2D(pool_size=2,strides=2))"
   ]
  },
  {
   "cell_type": "code",
   "execution_count": 13,
   "id": "7154140c",
   "metadata": {},
   "outputs": [],
   "source": [
    "model.add(Conv2D(filters=128,kernel_size=3,padding='same',activation='relu'))\n",
    "model.add(Conv2D(filters=128,kernel_size=3,activation='relu'))\n",
    "model.add(MaxPool2D(pool_size=2,strides=2))"
   ]
  },
  {
   "cell_type": "code",
   "execution_count": 14,
   "id": "aa65e7ca",
   "metadata": {},
   "outputs": [],
   "source": [
    "model.add(Conv2D(filters=256,kernel_size=3,padding='same',activation='relu'))\n",
    "model.add(Conv2D(filters=256,kernel_size=3,activation='relu'))\n",
    "model.add(MaxPool2D(pool_size=2,strides=2))"
   ]
  },
  {
   "cell_type": "code",
   "execution_count": 15,
   "id": "707ab1e3",
   "metadata": {},
   "outputs": [],
   "source": [
    "model.add(Conv2D(filters=512,kernel_size=3,padding='same',activation='relu'))\n",
    "model.add(Conv2D(filters=512,kernel_size=3,activation='relu'))\n",
    "model.add(MaxPool2D(pool_size=2,strides=2))"
   ]
  },
  {
   "cell_type": "code",
   "execution_count": 16,
   "id": "c5ccfe60",
   "metadata": {},
   "outputs": [],
   "source": [
    "model.add(Dropout(0.25)) # To avoid overfitting"
   ]
  },
  {
   "cell_type": "code",
   "execution_count": 17,
   "id": "c441af8b",
   "metadata": {},
   "outputs": [],
   "source": [
    "\n",
    "model.add(Flatten())\n",
    "\n"
   ]
  },
  {
   "cell_type": "code",
   "execution_count": 18,
   "id": "dbc73a98",
   "metadata": {},
   "outputs": [],
   "source": [
    "model.add(Dense(units=1500,activation='relu'))"
   ]
  },
  {
   "cell_type": "code",
   "execution_count": 19,
   "id": "87de6b9b",
   "metadata": {},
   "outputs": [],
   "source": [
    "model.add(Dropout(0.4))"
   ]
  },
  {
   "cell_type": "code",
   "execution_count": 20,
   "id": "6dee1085",
   "metadata": {},
   "outputs": [],
   "source": [
    "#Output layer\n",
    "model.add(Dense(units=38,activation='softmax'))"
   ]
  },
  {
   "cell_type": "markdown",
   "id": "2046548b",
   "metadata": {},
   "source": [
    "Compiling Model"
   ]
  },
  {
   "cell_type": "code",
   "execution_count": 21,
   "id": "0a9b6808",
   "metadata": {},
   "outputs": [],
   "source": [
    "model.compile(optimizer=tf.keras.optimizers.Adam(\n",
    "    learning_rate=0.0001),loss='categorical_crossentropy',metrics=['accuracy'])"
   ]
  },
  {
   "cell_type": "code",
   "execution_count": 22,
   "id": "fcc5e41a",
   "metadata": {},
   "outputs": [
    {
     "name": "stdout",
     "output_type": "stream",
     "text": [
      "Model: \"sequential\"\n",
      "_________________________________________________________________\n",
      " Layer (type)                Output Shape              Param #   \n",
      "=================================================================\n",
      " conv2d (Conv2D)             (None, 128, 128, 32)      896       \n",
      "                                                                 \n",
      " conv2d_1 (Conv2D)           (None, 126, 126, 32)      9248      \n",
      "                                                                 \n",
      " max_pooling2d (MaxPooling2D  (None, 63, 63, 32)       0         \n",
      " )                                                               \n",
      "                                                                 \n",
      " conv2d_2 (Conv2D)           (None, 63, 63, 64)        18496     \n",
      "                                                                 \n",
      " conv2d_3 (Conv2D)           (None, 61, 61, 64)        36928     \n",
      "                                                                 \n",
      " max_pooling2d_1 (MaxPooling  (None, 30, 30, 64)       0         \n",
      " 2D)                                                             \n",
      "                                                                 \n",
      " conv2d_4 (Conv2D)           (None, 30, 30, 128)       73856     \n",
      "                                                                 \n",
      " conv2d_5 (Conv2D)           (None, 28, 28, 128)       147584    \n",
      "                                                                 \n",
      " max_pooling2d_2 (MaxPooling  (None, 14, 14, 128)      0         \n",
      " 2D)                                                             \n",
      "                                                                 \n",
      " conv2d_6 (Conv2D)           (None, 14, 14, 256)       295168    \n",
      "                                                                 \n",
      " conv2d_7 (Conv2D)           (None, 12, 12, 256)       590080    \n",
      "                                                                 \n",
      " max_pooling2d_3 (MaxPooling  (None, 6, 6, 256)        0         \n",
      " 2D)                                                             \n",
      "                                                                 \n",
      " conv2d_8 (Conv2D)           (None, 6, 6, 512)         1180160   \n",
      "                                                                 \n",
      " conv2d_9 (Conv2D)           (None, 4, 4, 512)         2359808   \n",
      "                                                                 \n",
      " max_pooling2d_4 (MaxPooling  (None, 2, 2, 512)        0         \n",
      " 2D)                                                             \n",
      "                                                                 \n",
      " dropout (Dropout)           (None, 2, 2, 512)         0         \n",
      "                                                                 \n",
      " flatten (Flatten)           (None, 2048)              0         \n",
      "                                                                 \n",
      " dense (Dense)               (None, 1500)              3073500   \n",
      "                                                                 \n",
      " dropout_1 (Dropout)         (None, 1500)              0         \n",
      "                                                                 \n",
      " dense_1 (Dense)             (None, 38)                57038     \n",
      "                                                                 \n",
      "=================================================================\n",
      "Total params: 7,842,762\n",
      "Trainable params: 7,842,762\n",
      "Non-trainable params: 0\n",
      "_________________________________________________________________\n"
     ]
    }
   ],
   "source": [
    "model.summary()"
   ]
  },
  {
   "cell_type": "markdown",
   "id": "79e1aeac",
   "metadata": {},
   "source": [
    "## MODEL TRAINING \n",
    "\n",
    "### Model Trained by ITBIN-2211-0258\n"
   ]
  },
  {
   "cell_type": "code",
   "execution_count": 25,
   "id": "5a915c3f",
   "metadata": {},
   "outputs": [
    {
     "name": "stdout",
     "output_type": "stream",
     "text": [
      "Epoch 1/10\n",
      "2197/2197 [==============================] - 129s 56ms/step - loss: 1.3859 - accuracy: 0.5919 - val_loss: 0.5611 - val_accuracy: 0.8252\n",
      "Epoch 2/10\n",
      "2197/2197 [==============================] - 123s 56ms/step - loss: 0.4595 - accuracy: 0.8532 - val_loss: 0.2573 - val_accuracy: 0.9161\n",
      "Epoch 3/10\n",
      "2197/2197 [==============================] - 125s 57ms/step - loss: 0.2731 - accuracy: 0.9126 - val_loss: 0.1944 - val_accuracy: 0.9381\n",
      "Epoch 4/10\n",
      "2197/2197 [==============================] - 125s 57ms/step - loss: 0.1961 - accuracy: 0.9360 - val_loss: 0.2106 - val_accuracy: 0.9344\n",
      "Epoch 5/10\n",
      "2197/2197 [==============================] - 125s 57ms/step - loss: 0.1375 - accuracy: 0.9541 - val_loss: 0.1724 - val_accuracy: 0.9447\n",
      "Epoch 6/10\n",
      "2197/2197 [==============================] - 125s 57ms/step - loss: 0.1065 - accuracy: 0.9646 - val_loss: 0.1581 - val_accuracy: 0.9507\n",
      "Epoch 7/10\n",
      "2197/2197 [==============================] - 125s 57ms/step - loss: 0.0909 - accuracy: 0.9699 - val_loss: 0.1357 - val_accuracy: 0.9586\n",
      "Epoch 8/10\n",
      "2197/2197 [==============================] - 125s 57ms/step - loss: 0.0752 - accuracy: 0.9758 - val_loss: 0.1720 - val_accuracy: 0.9479\n",
      "Epoch 9/10\n",
      "2197/2197 [==============================] - 124s 57ms/step - loss: 0.0663 - accuracy: 0.9790 - val_loss: 0.1328 - val_accuracy: 0.9612\n",
      "Epoch 10/10\n",
      "2197/2197 [==============================] - 124s 56ms/step - loss: 0.0603 - accuracy: 0.9805 - val_loss: 0.1413 - val_accuracy: 0.9627\n"
     ]
    }
   ],
   "source": [
    "training_history = model.fit(x=training_set,validation_data=validation_set,epochs=10)"
   ]
  },
  {
   "cell_type": "markdown",
   "id": "3b9d1ec4",
   "metadata": {},
   "source": [
    "## Model Saving\n",
    "\n",
    "### Model Saved by ITBIN-2211-0258"
   ]
  },
  {
   "cell_type": "code",
   "execution_count": 26,
   "id": "8101f679",
   "metadata": {},
   "outputs": [],
   "source": [
    "model.save(\"trained_model.keras\")"
   ]
  },
  {
   "cell_type": "code",
   "execution_count": 27,
   "id": "2cacc532",
   "metadata": {},
   "outputs": [
    {
     "data": {
      "text/plain": [
       "{'loss': [1.3858829736709595,\n",
       "  0.4595470726490021,\n",
       "  0.27305009961128235,\n",
       "  0.19606265425682068,\n",
       "  0.13745465874671936,\n",
       "  0.10650962591171265,\n",
       "  0.09086771309375763,\n",
       "  0.07516758888959885,\n",
       "  0.06629437953233719,\n",
       "  0.06029153987765312],\n",
       " 'accuracy': [0.5918912887573242,\n",
       "  0.8532185554504395,\n",
       "  0.9125684499740601,\n",
       "  0.9360267519950867,\n",
       "  0.9541361331939697,\n",
       "  0.9645636081695557,\n",
       "  0.9699409604072571,\n",
       "  0.97584468126297,\n",
       "  0.9790454506874084,\n",
       "  0.9804680347442627],\n",
       " 'val_loss': [0.5611236691474915,\n",
       "  0.2573181092739105,\n",
       "  0.19435124099254608,\n",
       "  0.21061702072620392,\n",
       "  0.17238374054431915,\n",
       "  0.15811096131801605,\n",
       "  0.13565747439861298,\n",
       "  0.1719799041748047,\n",
       "  0.13282211124897003,\n",
       "  0.14128470420837402],\n",
       " 'val_accuracy': [0.8252333402633667,\n",
       "  0.9160596132278442,\n",
       "  0.9381402134895325,\n",
       "  0.9343842267990112,\n",
       "  0.9446847438812256,\n",
       "  0.9506601691246033,\n",
       "  0.9586273431777954,\n",
       "  0.9479285478591919,\n",
       "  0.9611882567405701,\n",
       "  0.9626678824424744]}"
      ]
     },
     "execution_count": 27,
     "metadata": {},
     "output_type": "execute_result"
    }
   ],
   "source": [
    "training_history.history"
   ]
  },
  {
   "cell_type": "code",
   "execution_count": 28,
   "id": "754f66d4",
   "metadata": {},
   "outputs": [],
   "source": [
    "# Recording history in json\n",
    "import json\n",
    "with open(\"training_hist.json\",\"w\") as f:\n",
    "    json.dump(training_history.history,f)"
   ]
  }
 ],
 "metadata": {
  "kernelspec": {
   "display_name": "tensorflow_env",
   "language": "python",
   "name": "python3"
  },
  "language_info": {
   "codemirror_mode": {
    "name": "ipython",
    "version": 3
   },
   "file_extension": ".py",
   "mimetype": "text/x-python",
   "name": "python",
   "nbconvert_exporter": "python",
   "pygments_lexer": "ipython3",
   "version": "3.10.18"
  }
 },
 "nbformat": 4,
 "nbformat_minor": 5
}
