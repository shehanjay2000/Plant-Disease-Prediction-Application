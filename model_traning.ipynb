{
 "cells": [
  {
   "cell_type": "code",
   "execution_count": 1,
   "id": "e7f955b6",
   "metadata": {},
   "outputs": [],
   "source": [
    "import tensorflow as tf\n",
    "import matplotlib.pyplot as plt\n",
    "import pandas as pd\n",
    "import seaborn as sns"
   ]
  },
  {
   "cell_type": "code",
   "execution_count": 2,
   "id": "2d229449",
   "metadata": {},
   "outputs": [],
   "source": [
    "import tensorflow as tf\n",
    "\n",
    "gpus = tf.config.experimental.list_physical_devices('GPU')\n",
    "if gpus:\n",
    "    try:\n",
    "        for gpu in gpus:\n",
    "            tf.config.experimental.set_memory_growth(gpu, True)\n",
    "    except RuntimeError as e:\n",
    "        print(e)\n"
   ]
  },
  {
   "cell_type": "code",
   "execution_count": 3,
   "id": "b775dd81",
   "metadata": {},
   "outputs": [
    {
     "name": "stdout",
     "output_type": "stream",
     "text": [
      "[PhysicalDevice(name='/physical_device:GPU:0', device_type='GPU')]\n"
     ]
    }
   ],
   "source": [
    "print(tf.config.list_physical_devices('GPU'))"
   ]
  },
  {
   "cell_type": "markdown",
   "id": "421465da",
   "metadata": {},
   "source": [
    "## Data Preprocessing\n",
    "Preprocessed by ITBIN-2211-0233"
   ]
  },
  {
   "cell_type": "markdown",
   "id": "34d97a87",
   "metadata": {},
   "source": [
    "Training Image Preprocessing"
   ]
  },
  {
   "cell_type": "code",
   "execution_count": 4,
   "id": "e7c58cae",
   "metadata": {},
   "outputs": [
    {
     "name": "stdout",
     "output_type": "stream",
     "text": [
      "Found 70295 files belonging to 38 classes.\n"
     ]
    }
   ],
   "source": [
    "training_set = tf.keras.utils.image_dataset_from_directory(\n",
    "    'train',\n",
    "    labels=\"inferred\",\n",
    "    label_mode=\"categorical\",\n",
    "    class_names=None,\n",
    "    color_mode=\"rgb\",\n",
    "    batch_size=32,\n",
    "    image_size=(128, 128),\n",
    "    shuffle=True,\n",
    "    seed=None,\n",
    "    validation_split=None,\n",
    "    subset=None,\n",
    "    interpolation=\"bilinear\",\n",
    "    follow_links=False,\n",
    "    crop_to_aspect_ratio=False,\n",
    ")"
   ]
  },
  {
   "cell_type": "markdown",
   "id": "1d2124ce",
   "metadata": {},
   "source": [
    "Validation Image Preprocessing"
   ]
  },
  {
   "cell_type": "code",
   "execution_count": 5,
   "id": "7959130e",
   "metadata": {},
   "outputs": [
    {
     "name": "stdout",
     "output_type": "stream",
     "text": [
      "Found 17572 files belonging to 38 classes.\n"
     ]
    }
   ],
   "source": [
    "validation_set = tf.keras.utils.image_dataset_from_directory(\n",
    "    'valid',\n",
    "    labels=\"inferred\",\n",
    "    label_mode=\"categorical\",\n",
    "    class_names=None,\n",
    "    color_mode=\"rgb\",\n",
    "    batch_size=32,\n",
    "    image_size=(128, 128),\n",
    "    shuffle=True,\n",
    "    seed=None,\n",
    "    validation_split=None,\n",
    "    subset=None,\n",
    "    interpolation=\"bilinear\",\n",
    "    follow_links=False,\n",
    "    crop_to_aspect_ratio=False,\n",
    ")"
   ]
  },
  {
   "cell_type": "code",
   "execution_count": 6,
   "id": "3d39e26c",
   "metadata": {},
   "outputs": [
    {
     "data": {
      "text/plain": [
       "<BatchDataset element_spec=(TensorSpec(shape=(None, 128, 128, 3), dtype=tf.float32, name=None), TensorSpec(shape=(None, 38), dtype=tf.float32, name=None))>"
      ]
     },
     "execution_count": 6,
     "metadata": {},
     "output_type": "execute_result"
    }
   ],
   "source": [
    "training_set"
   ]
  },
  {
   "cell_type": "code",
   "execution_count": 7,
   "id": "b0612131",
   "metadata": {},
   "outputs": [
    {
     "name": "stdout",
     "output_type": "stream",
     "text": [
      "tf.Tensor(\n",
      "[[[[148.5  143.5  147.5 ]\n",
      "   [148.   143.   147.  ]\n",
      "   [149.25 144.25 148.25]\n",
      "   ...\n",
      "   [139.   134.   138.  ]\n",
      "   [137.5  132.5  136.5 ]\n",
      "   [146.5  141.5  145.5 ]]\n",
      "\n",
      "  [[149.5  144.5  148.5 ]\n",
      "   [148.   143.   147.  ]\n",
      "   [147.25 142.25 146.25]\n",
      "   ...\n",
      "   [157.75 152.75 156.75]\n",
      "   [160.25 155.25 159.25]\n",
      "   [151.5  146.5  150.5 ]]\n",
      "\n",
      "  [[147.   142.   146.  ]\n",
      "   [147.5  142.5  146.5 ]\n",
      "   [149.25 144.25 148.25]\n",
      "   ...\n",
      "   [151.   146.   150.  ]\n",
      "   [135.75 130.75 134.75]\n",
      "   [146.5  141.5  145.5 ]]\n",
      "\n",
      "  ...\n",
      "\n",
      "  [[137.75 133.75 134.75]\n",
      "   [139.   135.   136.  ]\n",
      "   [136.25 132.25 133.25]\n",
      "   ...\n",
      "   [ 95.25  81.25  81.25]\n",
      "   [ 93.    79.    79.  ]\n",
      "   [ 98.25  84.25  84.25]]\n",
      "\n",
      "  [[135.25 131.25 132.25]\n",
      "   [132.5  128.5  129.5 ]\n",
      "   [134.25 130.25 131.25]\n",
      "   ...\n",
      "   [ 98.    82.    83.  ]\n",
      "   [101.25  85.25  86.25]\n",
      "   [ 90.25  74.25  75.25]]\n",
      "\n",
      "  [[140.25 136.25 137.25]\n",
      "   [130.75 126.75 127.75]\n",
      "   [130.25 126.25 127.25]\n",
      "   ...\n",
      "   [ 93.5   77.5   78.5 ]\n",
      "   [ 96.    80.    81.  ]\n",
      "   [ 95.25  79.25  80.25]]]\n",
      "\n",
      "\n",
      " [[[176.   171.   168.  ]\n",
      "   [172.25 167.25 164.25]\n",
      "   [182.25 177.25 174.25]\n",
      "   ...\n",
      "   [220.75 220.75 222.75]\n",
      "   [217.5  217.5  219.5 ]\n",
      "   [214.25 214.25 216.25]]\n",
      "\n",
      "  [[170.5  165.5  162.5 ]\n",
      "   [184.   179.   176.  ]\n",
      "   [183.5  178.5  175.5 ]\n",
      "   ...\n",
      "   [227.   227.   229.  ]\n",
      "   [212.25 212.25 214.25]\n",
      "   [215.75 215.75 217.75]]\n",
      "\n",
      "  [[178.25 173.25 170.25]\n",
      "   [180.   175.   172.  ]\n",
      "   [170.25 165.25 162.25]\n",
      "   ...\n",
      "   [223.25 223.25 225.25]\n",
      "   [207.25 207.25 209.25]\n",
      "   [204.75 204.75 206.75]]\n",
      "\n",
      "  ...\n",
      "\n",
      "  [[165.   155.   153.  ]\n",
      "   [155.   145.   143.  ]\n",
      "   [151.75 141.75 139.75]\n",
      "   ...\n",
      "   [179.25 175.25 176.25]\n",
      "   [201.   197.   198.  ]\n",
      "   [199.75 195.75 196.75]]\n",
      "\n",
      "  [[164.5  154.5  152.5 ]\n",
      "   [164.5  154.5  152.5 ]\n",
      "   [153.75 143.75 141.75]\n",
      "   ...\n",
      "   [183.   179.   180.  ]\n",
      "   [187.5  183.5  184.5 ]\n",
      "   [189.   185.   186.  ]]\n",
      "\n",
      "  [[155.25 145.25 143.25]\n",
      "   [165.   155.   153.  ]\n",
      "   [147.5  137.5  135.5 ]\n",
      "   ...\n",
      "   [201.75 197.75 198.75]\n",
      "   [188.25 184.25 185.25]\n",
      "   [203.25 199.25 200.25]]]\n",
      "\n",
      "\n",
      " [[[152.   145.   153.  ]\n",
      "   [152.25 145.25 153.25]\n",
      "   [171.75 164.75 172.75]\n",
      "   ...\n",
      "   [141.25 134.25 142.25]\n",
      "   [137.75 130.75 138.75]\n",
      "   [133.5  126.5  134.5 ]]\n",
      "\n",
      "  [[154.75 147.75 155.75]\n",
      "   [169.5  162.5  170.5 ]\n",
      "   [148.75 141.75 149.75]\n",
      "   ...\n",
      "   [129.5  122.5  130.5 ]\n",
      "   [126.   119.   127.  ]\n",
      "   [150.25 143.25 151.25]]\n",
      "\n",
      "  [[158.5  151.5  159.5 ]\n",
      "   [155.25 148.25 156.25]\n",
      "   [162.75 155.75 163.75]\n",
      "   ...\n",
      "   [133.5  126.5  134.5 ]\n",
      "   [133.75 126.75 134.75]\n",
      "   [148.5  141.5  149.5 ]]\n",
      "\n",
      "  ...\n",
      "\n",
      "  [[174.5  168.5  178.5 ]\n",
      "   [177.   171.   181.  ]\n",
      "   [183.25 177.25 187.25]\n",
      "   ...\n",
      "   [156.25 148.25 159.25]\n",
      "   [160.25 152.25 163.25]\n",
      "   [166.   158.   169.  ]]\n",
      "\n",
      "  [[181.75 175.75 185.75]\n",
      "   [180.   174.   184.  ]\n",
      "   [171.75 165.75 175.75]\n",
      "   ...\n",
      "   [157.5  149.5  160.5 ]\n",
      "   [160.25 152.25 163.25]\n",
      "   [158.   150.   161.  ]]\n",
      "\n",
      "  [[186.   180.   190.  ]\n",
      "   [174.25 168.25 178.25]\n",
      "   [178.75 172.75 182.75]\n",
      "   ...\n",
      "   [163.5  155.5  166.5 ]\n",
      "   [156.5  148.5  159.5 ]\n",
      "   [156.   148.   159.  ]]]\n",
      "\n",
      "\n",
      " ...\n",
      "\n",
      "\n",
      " [[[141.5  122.25 133.  ]\n",
      "   [143.75 126.75 136.75]\n",
      "   [146.75 130.   140.  ]\n",
      "   ...\n",
      "   [146.   126.   135.  ]\n",
      "   [154.   134.   143.  ]\n",
      "   [156.   136.   145.  ]]\n",
      "\n",
      "  [[132.25 115.5  125.5 ]\n",
      "   [138.5  122.25 132.25]\n",
      "   [147.   132.5  139.5 ]\n",
      "   ...\n",
      "   [164.5  144.5  153.5 ]\n",
      "   [151.   131.   140.  ]\n",
      "   [137.25 117.25 126.25]]\n",
      "\n",
      "  [[141.25 127.5  137.75]\n",
      "   [136.25 123.75 132.75]\n",
      "   [137.5  126.   132.25]\n",
      "   ...\n",
      "   [156.25 136.25 145.25]\n",
      "   [163.25 143.25 152.25]\n",
      "   [152.75 132.75 141.75]]\n",
      "\n",
      "  ...\n",
      "\n",
      "  [[169.   159.   168.  ]\n",
      "   [174.75 164.75 173.75]\n",
      "   [176.5  166.5  175.5 ]\n",
      "   ...\n",
      "   [ 64.5   94.5   43.  ]\n",
      "   [ 94.   123.75  74.25]\n",
      "   [116.   145.5   97.5 ]]\n",
      "\n",
      "  [[164.5  154.5  163.5 ]\n",
      "   [171.25 161.25 170.25]\n",
      "   [180.25 170.25 179.25]\n",
      "   ...\n",
      "   [120.5  148.   102.5 ]\n",
      "   [ 77.75 106.25  53.25]\n",
      "   [ 87.75 117.    60.  ]]\n",
      "\n",
      "  [[176.   166.   175.  ]\n",
      "   [184.25 174.25 183.25]\n",
      "   [180.5  170.5  179.5 ]\n",
      "   ...\n",
      "   [120.25 146.75 106.75]\n",
      "   [ 94.   122.5   68.  ]\n",
      "   [ 53.25  83.5   23.25]]]\n",
      "\n",
      "\n",
      " [[[167.25 164.25 173.25]\n",
      "   [170.25 167.25 176.25]\n",
      "   [154.5  151.5  160.5 ]\n",
      "   ...\n",
      "   [139.   137.   148.  ]\n",
      "   [159.5  157.5  168.5 ]\n",
      "   [141.5  139.5  150.5 ]]\n",
      "\n",
      "  [[163.   160.   169.  ]\n",
      "   [173.25 170.25 179.25]\n",
      "   [162.25 159.25 168.25]\n",
      "   ...\n",
      "   [148.   146.   157.  ]\n",
      "   [159.75 157.75 168.75]\n",
      "   [157.   155.   166.  ]]\n",
      "\n",
      "  [[175.   172.   181.  ]\n",
      "   [151.   148.   157.  ]\n",
      "   [172.   169.   178.  ]\n",
      "   ...\n",
      "   [153.25 151.25 162.25]\n",
      "   [158.5  156.5  167.5 ]\n",
      "   [141.5  139.5  150.5 ]]\n",
      "\n",
      "  ...\n",
      "\n",
      "  [[104.75  94.75 105.75]\n",
      "   [ 98.5   88.5   99.5 ]\n",
      "   [ 88.    78.    89.  ]\n",
      "   ...\n",
      "   [129.25 121.25 132.25]\n",
      "   [105.    97.   108.  ]\n",
      "   [112.75 104.75 115.75]]\n",
      "\n",
      "  [[116.   106.   117.  ]\n",
      "   [129.   119.   130.  ]\n",
      "   [ 96.    86.    97.  ]\n",
      "   ...\n",
      "   [146.75 138.75 149.75]\n",
      "   [123.5  115.5  126.5 ]\n",
      "   [106.75  98.75 109.75]]\n",
      "\n",
      "  [[101.5   91.5  102.5 ]\n",
      "   [100.25  90.25 101.25]\n",
      "   [117.5  107.5  118.5 ]\n",
      "   ...\n",
      "   [134.   126.   137.  ]\n",
      "   [124.75 116.75 127.75]\n",
      "   [119.5  111.5  122.5 ]]]\n",
      "\n",
      "\n",
      " [[[ 94.    90.   113.  ]\n",
      "   [ 96.75  92.75 115.75]\n",
      "   [103.5   99.5  122.5 ]\n",
      "   ...\n",
      "   [146.25 142.25 167.25]\n",
      "   [150.25 146.25 171.25]\n",
      "   [153.5  149.5  174.5 ]]\n",
      "\n",
      "  [[ 96.5   92.5  115.5 ]\n",
      "   [ 94.25  90.25 113.25]\n",
      "   [102.5   98.5  121.5 ]\n",
      "   ...\n",
      "   [140.25 136.25 161.25]\n",
      "   [141.25 137.25 162.25]\n",
      "   [149.5  145.5  170.5 ]]\n",
      "\n",
      "  [[101.25  97.25 120.25]\n",
      "   [ 99.75  95.75 118.75]\n",
      "   [103.25  99.25 122.25]\n",
      "   ...\n",
      "   [144.   140.   165.  ]\n",
      "   [143.25 139.25 164.25]\n",
      "   [144.75 140.75 165.75]]\n",
      "\n",
      "  ...\n",
      "\n",
      "  [[108.5  114.5  140.5 ]\n",
      "   [113.25 119.25 145.25]\n",
      "   [117.25 123.25 149.25]\n",
      "   ...\n",
      "   [194.5  195.5  215.5 ]\n",
      "   [209.   210.   230.  ]\n",
      "   [201.5  202.5  222.5 ]]\n",
      "\n",
      "  [[103.25 109.25 135.25]\n",
      "   [113.   119.   145.  ]\n",
      "   [116.75 122.75 148.75]\n",
      "   ...\n",
      "   [201.   202.   222.  ]\n",
      "   [200.5  201.5  221.5 ]\n",
      "   [203.25 204.25 224.25]]\n",
      "\n",
      "  [[108.5  113.5  142.5 ]\n",
      "   [114.25 119.25 148.25]\n",
      "   [118.75 123.75 152.75]\n",
      "   ...\n",
      "   [207.5  208.5  228.5 ]\n",
      "   [194.5  195.5  215.5 ]\n",
      "   [203.25 204.25 224.25]]]], shape=(32, 128, 128, 3), dtype=float32) (32, 128, 128, 3)\n",
      "tf.Tensor(\n",
      "[[0. 0. 0. ... 0. 0. 0.]\n",
      " [0. 0. 0. ... 0. 0. 0.]\n",
      " [0. 0. 0. ... 0. 0. 0.]\n",
      " ...\n",
      " [0. 0. 0. ... 0. 0. 0.]\n",
      " [0. 0. 0. ... 0. 0. 1.]\n",
      " [0. 0. 0. ... 0. 0. 0.]], shape=(32, 38), dtype=float32) (32, 38)\n"
     ]
    }
   ],
   "source": [
    "for x,y in training_set:\n",
    "    print(x,x.shape)\n",
    "    print(y,y.shape)\n",
    "    break"
   ]
  },
  {
   "cell_type": "markdown",
   "id": "ba0574cd",
   "metadata": {},
   "source": [
    "Building Model"
   ]
  },
  {
   "cell_type": "code",
   "execution_count": 92,
   "id": "a49567a6",
   "metadata": {},
   "outputs": [],
   "source": [
    "\n",
    "from keras.layers import Dense,Conv2D,MaxPool2D,Flatten,Dropout\n",
    "from keras.models import Sequential\n",
    "\n"
   ]
  },
  {
   "cell_type": "code",
   "execution_count": 93,
   "id": "2f12524c",
   "metadata": {},
   "outputs": [],
   "source": [
    "model = Sequential()"
   ]
  },
  {
   "cell_type": "markdown",
   "id": "a1aa39d9",
   "metadata": {},
   "source": [
    "###  To avoid overshooting\n",
    "\n",
    "1.Choose default learning rate as 0.0001\n",
    "\n",
    "2.There may be chance of underfitting, so increase the number of neurons\n",
    "\n",
    "3.Add more convolution layer to extrat more feature from images, there may be some posibility that model unable to capture relevent feature or model is confusing due to lack of feature. so feed with more feature.\n"
   ]
  },
  {
   "cell_type": "markdown",
   "id": "e51badae",
   "metadata": {},
   "source": [
    "## Building convalution Layer\n",
    "BUILD BY ITBIN-2211-0256"
   ]
  },
  {
   "cell_type": "code",
   "execution_count": 94,
   "id": "44b77713",
   "metadata": {},
   "outputs": [],
   "source": [
    "model.add(Conv2D(filters=32,kernel_size=3,padding='same',activation='relu', input_shape=(128, 128, 3)))\n",
    "model.add(Conv2D(filters=32,kernel_size=3,activation='relu'))\n",
    "model.add(MaxPool2D(pool_size=2,strides=2))"
   ]
  },
  {
   "cell_type": "code",
   "execution_count": 95,
   "id": "fcace08d",
   "metadata": {},
   "outputs": [],
   "source": [
    "model.add(Conv2D(filters=64,kernel_size=3,padding='same',activation='relu'))\n",
    "model.add(Conv2D(filters=64,kernel_size=3,activation='relu'))\n",
    "model.add(MaxPool2D(pool_size=2,strides=2))"
   ]
  },
  {
   "cell_type": "code",
   "execution_count": 96,
   "id": "7154140c",
   "metadata": {},
   "outputs": [],
   "source": [
    "model.add(Conv2D(filters=128,kernel_size=3,padding='same',activation='relu'))\n",
    "model.add(Conv2D(filters=128,kernel_size=3,activation='relu'))\n",
    "model.add(MaxPool2D(pool_size=2,strides=2))"
   ]
  },
  {
   "cell_type": "code",
   "execution_count": 97,
   "id": "aa65e7ca",
   "metadata": {},
   "outputs": [],
   "source": [
    "model.add(Conv2D(filters=256,kernel_size=3,padding='same',activation='relu'))\n",
    "model.add(Conv2D(filters=256,kernel_size=3,activation='relu'))\n",
    "model.add(MaxPool2D(pool_size=2,strides=2))"
   ]
  },
  {
   "cell_type": "code",
   "execution_count": 99,
   "id": "707ab1e3",
   "metadata": {},
   "outputs": [],
   "source": [
    "model.add(Conv2D(filters=512,kernel_size=3,padding='same',activation='relu'))\n",
    "model.add(Conv2D(filters=512,kernel_size=3,activation='relu'))\n",
    "model.add(MaxPool2D(pool_size=2,strides=2))"
   ]
  },
  {
   "cell_type": "code",
   "execution_count": 100,
   "id": "c5ccfe60",
   "metadata": {},
   "outputs": [],
   "source": [
    "model.add(Dropout(0.25)) # To avoid overfitting"
   ]
  },
  {
   "cell_type": "code",
   "execution_count": 101,
   "id": "c441af8b",
   "metadata": {},
   "outputs": [],
   "source": [
    "\n",
    "model.add(Flatten())\n",
    "\n"
   ]
  },
  {
   "cell_type": "code",
   "execution_count": 103,
   "id": "dbc73a98",
   "metadata": {},
   "outputs": [],
   "source": [
    "model.add(Dense(units=1500,activation='relu'))"
   ]
  },
  {
   "cell_type": "code",
   "execution_count": 104,
   "id": "87de6b9b",
   "metadata": {},
   "outputs": [],
   "source": [
    "model.add(Dropout(0.4))"
   ]
  },
  {
   "cell_type": "code",
   "execution_count": 105,
   "id": "6dee1085",
   "metadata": {},
   "outputs": [],
   "source": [
    "#Output layer\n",
    "model.add(Dense(units=38,activation='softmax'))"
   ]
  },
  {
   "cell_type": "markdown",
   "id": "2046548b",
   "metadata": {},
   "source": [
    "Compiling Model"
   ]
  },
  {
   "cell_type": "code",
   "execution_count": 106,
   "id": "0a9b6808",
   "metadata": {},
   "outputs": [],
   "source": [
    "model.compile(optimizer=tf.keras.optimizers.Adam(\n",
    "    learning_rate=0.0001),loss='categorical_crossentropy',metrics=['accuracy'])"
   ]
  },
  {
   "cell_type": "code",
   "execution_count": 107,
   "id": "fcc5e41a",
   "metadata": {},
   "outputs": [
    {
     "name": "stdout",
     "output_type": "stream",
     "text": [
      "Model: \"sequential_11\"\n",
      "_________________________________________________________________\n",
      " Layer (type)                Output Shape              Param #   \n",
      "=================================================================\n",
      " conv2d_53 (Conv2D)          (None, 128, 128, 32)      896       \n",
      "                                                                 \n",
      " conv2d_54 (Conv2D)          (None, 126, 126, 32)      9248      \n",
      "                                                                 \n",
      " max_pooling2d_30 (MaxPoolin  (None, 63, 63, 32)       0         \n",
      " g2D)                                                            \n",
      "                                                                 \n",
      " conv2d_55 (Conv2D)          (None, 63, 63, 64)        18496     \n",
      "                                                                 \n",
      " conv2d_56 (Conv2D)          (None, 61, 61, 64)        36928     \n",
      "                                                                 \n",
      " max_pooling2d_31 (MaxPoolin  (None, 30, 30, 64)       0         \n",
      " g2D)                                                            \n",
      "                                                                 \n",
      " conv2d_57 (Conv2D)          (None, 30, 30, 128)       73856     \n",
      "                                                                 \n",
      " conv2d_58 (Conv2D)          (None, 28, 28, 128)       147584    \n",
      "                                                                 \n",
      " max_pooling2d_32 (MaxPoolin  (None, 14, 14, 128)      0         \n",
      " g2D)                                                            \n",
      "                                                                 \n",
      " conv2d_59 (Conv2D)          (None, 14, 14, 256)       295168    \n",
      "                                                                 \n",
      " conv2d_60 (Conv2D)          (None, 12, 12, 256)       590080    \n",
      "                                                                 \n",
      " max_pooling2d_33 (MaxPoolin  (None, 6, 6, 256)        0         \n",
      " g2D)                                                            \n",
      "                                                                 \n",
      " conv2d_61 (Conv2D)          (None, 6, 6, 512)         1180160   \n",
      "                                                                 \n",
      " conv2d_62 (Conv2D)          (None, 4, 4, 512)         2359808   \n",
      "                                                                 \n",
      " max_pooling2d_34 (MaxPoolin  (None, 2, 2, 512)        0         \n",
      " g2D)                                                            \n",
      "                                                                 \n",
      " dropout_4 (Dropout)         (None, 2, 2, 512)         0         \n",
      "                                                                 \n",
      " flatten_10 (Flatten)        (None, 2048)              0         \n",
      "                                                                 \n",
      " dense_20 (Dense)            (None, 1500)              3073500   \n",
      "                                                                 \n",
      " dense_21 (Dense)            (None, 1500)              2251500   \n",
      "                                                                 \n",
      " dropout_5 (Dropout)         (None, 1500)              0         \n",
      "                                                                 \n",
      " dense_22 (Dense)            (None, 38)                57038     \n",
      "                                                                 \n",
      "=================================================================\n",
      "Total params: 10,094,262\n",
      "Trainable params: 10,094,262\n",
      "Non-trainable params: 0\n",
      "_________________________________________________________________\n"
     ]
    }
   ],
   "source": [
    "model.summary()"
   ]
  },
  {
   "cell_type": "markdown",
   "id": "79e1aeac",
   "metadata": {},
   "source": [
    "## MODEL TRAINING \n",
    "\n",
    "Model Trained by ITBIN-2211-0258\n"
   ]
  },
  {
   "cell_type": "code",
   "execution_count": 108,
   "id": "5a915c3f",
   "metadata": {},
   "outputs": [
    {
     "name": "stdout",
     "output_type": "stream",
     "text": [
      "Epoch 1/10\n",
      "2197/2197 [==============================] - 131s 58ms/step - loss: 1.5461 - accuracy: 0.5464 - val_loss: 0.5906 - val_accuracy: 0.8185\n",
      "Epoch 2/10\n",
      "2197/2197 [==============================] - 129s 59ms/step - loss: 0.5004 - accuracy: 0.8417 - val_loss: 0.3619 - val_accuracy: 0.8885\n",
      "Epoch 3/10\n",
      "2197/2197 [==============================] - 128s 58ms/step - loss: 0.2988 - accuracy: 0.9042 - val_loss: 0.2086 - val_accuracy: 0.9321\n",
      "Epoch 4/10\n",
      "2197/2197 [==============================] - 129s 59ms/step - loss: 0.2097 - accuracy: 0.9318 - val_loss: 0.2251 - val_accuracy: 0.9276\n",
      "Epoch 5/10\n",
      "2197/2197 [==============================] - 127s 58ms/step - loss: 0.1483 - accuracy: 0.9518 - val_loss: 0.1515 - val_accuracy: 0.9516\n",
      "Epoch 6/10\n",
      "2197/2197 [==============================] - 129s 59ms/step - loss: 0.1141 - accuracy: 0.9636 - val_loss: 0.1855 - val_accuracy: 0.9414\n",
      "Epoch 7/10\n",
      "2197/2197 [==============================] - 130s 59ms/step - loss: 0.0976 - accuracy: 0.9683 - val_loss: 0.2319 - val_accuracy: 0.9299\n",
      "Epoch 8/10\n",
      "2197/2197 [==============================] - 130s 59ms/step - loss: 0.0807 - accuracy: 0.9738 - val_loss: 0.1333 - val_accuracy: 0.9599\n",
      "Epoch 9/10\n",
      "2197/2197 [==============================] - 130s 59ms/step - loss: 0.0703 - accuracy: 0.9771 - val_loss: 0.1245 - val_accuracy: 0.9634\n",
      "Epoch 10/10\n",
      "2197/2197 [==============================] - 131s 60ms/step - loss: 0.0624 - accuracy: 0.9806 - val_loss: 0.1456 - val_accuracy: 0.9567\n"
     ]
    }
   ],
   "source": [
    "training_history = model.fit(x=training_set,validation_data=validation_set,epochs=10)"
   ]
  }
 ],
 "metadata": {
  "kernelspec": {
   "display_name": "tensorflow_env",
   "language": "python",
   "name": "python3"
  },
  "language_info": {
   "codemirror_mode": {
    "name": "ipython",
    "version": 3
   },
   "file_extension": ".py",
   "mimetype": "text/x-python",
   "name": "python",
   "nbconvert_exporter": "python",
   "pygments_lexer": "ipython3",
   "version": "3.10.18"
  }
 },
 "nbformat": 4,
 "nbformat_minor": 5
}
