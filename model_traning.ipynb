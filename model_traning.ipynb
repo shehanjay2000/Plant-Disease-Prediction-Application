{
 "cells": [
  {
   "cell_type": "code",
   "execution_count": 32,
   "id": "e7f955b6",
   "metadata": {},
   "outputs": [],
   "source": [
    "import tensorflow as tf\n",
    "import matplotlib.pyplot as plt\n",
    "import pandas as pd\n",
    "import seaborn as sns"
   ]
  },
  {
   "cell_type": "code",
   "execution_count": 33,
   "id": "2d229449",
   "metadata": {},
   "outputs": [],
   "source": [
    "import tensorflow as tf\n",
    "\n",
    "gpus = tf.config.experimental.list_physical_devices('GPU')\n",
    "if gpus:\n",
    "    try:\n",
    "        for gpu in gpus:\n",
    "            tf.config.experimental.set_memory_growth(gpu, True)\n",
    "    except RuntimeError as e:\n",
    "        print(e)\n"
   ]
  },
  {
   "cell_type": "code",
   "execution_count": 34,
   "id": "b775dd81",
   "metadata": {},
   "outputs": [
    {
     "name": "stdout",
     "output_type": "stream",
     "text": [
      "[PhysicalDevice(name='/physical_device:GPU:0', device_type='GPU')]\n"
     ]
    }
   ],
   "source": [
    "print(tf.config.list_physical_devices('GPU'))"
   ]
  },
  {
   "cell_type": "markdown",
   "id": "421465da",
   "metadata": {},
   "source": [
    "## Data Preprocessing\n",
    "### Preprocessed by ITBIN-2211-0233"
   ]
  },
  {
   "cell_type": "markdown",
   "id": "34d97a87",
   "metadata": {},
   "source": [
    "Training Image Preprocessing"
   ]
  },
  {
   "cell_type": "code",
   "execution_count": 35,
   "id": "e7c58cae",
   "metadata": {},
   "outputs": [
    {
     "name": "stdout",
     "output_type": "stream",
     "text": [
      "Found 70295 files belonging to 38 classes.\n"
     ]
    }
   ],
   "source": [
    "training_set = tf.keras.utils.image_dataset_from_directory(\n",
    "    'train',\n",
    "    labels=\"inferred\",\n",
    "    label_mode=\"categorical\",\n",
    "    class_names=None,\n",
    "    color_mode=\"rgb\",\n",
    "    batch_size=32,\n",
    "    image_size=(128, 128),\n",
    "    shuffle=True,\n",
    "    seed=None,\n",
    "    validation_split=None,\n",
    "    subset=None,\n",
    "    interpolation=\"bilinear\",\n",
    "    follow_links=False,\n",
    "    crop_to_aspect_ratio=False,\n",
    ")"
   ]
  },
  {
   "cell_type": "markdown",
   "id": "1d2124ce",
   "metadata": {},
   "source": [
    "Validation Image Preprocessing"
   ]
  },
  {
   "cell_type": "code",
   "execution_count": 36,
   "id": "7959130e",
   "metadata": {},
   "outputs": [
    {
     "name": "stdout",
     "output_type": "stream",
     "text": [
      "Found 17572 files belonging to 38 classes.\n"
     ]
    }
   ],
   "source": [
    "validation_set = tf.keras.utils.image_dataset_from_directory(\n",
    "    'valid',\n",
    "    labels=\"inferred\",\n",
    "    label_mode=\"categorical\",\n",
    "    class_names=None,\n",
    "    color_mode=\"rgb\",\n",
    "    batch_size=32,\n",
    "    image_size=(128, 128),\n",
    "    shuffle=True,\n",
    "    seed=None,\n",
    "    validation_split=None,\n",
    "    subset=None,\n",
    "    interpolation=\"bilinear\",\n",
    "    follow_links=False,\n",
    "    crop_to_aspect_ratio=False,\n",
    ")"
   ]
  },
  {
   "cell_type": "code",
   "execution_count": 37,
   "id": "3d39e26c",
   "metadata": {},
   "outputs": [
    {
     "data": {
      "text/plain": [
       "<BatchDataset element_spec=(TensorSpec(shape=(None, 128, 128, 3), dtype=tf.float32, name=None), TensorSpec(shape=(None, 38), dtype=tf.float32, name=None))>"
      ]
     },
     "execution_count": 37,
     "metadata": {},
     "output_type": "execute_result"
    }
   ],
   "source": [
    "training_set"
   ]
  },
  {
   "cell_type": "code",
   "execution_count": 38,
   "id": "b0612131",
   "metadata": {},
   "outputs": [
    {
     "name": "stdout",
     "output_type": "stream",
     "text": [
      "tf.Tensor(\n",
      "[[[[169.75 162.75 169.75]\n",
      "   [165.5  158.5  165.5 ]\n",
      "   [154.75 147.75 154.75]\n",
      "   ...\n",
      "   [175.25 166.25 169.25]\n",
      "   [167.75 158.75 161.75]\n",
      "   [173.   164.   167.  ]]\n",
      "\n",
      "  [[162.25 155.25 162.25]\n",
      "   [168.5  161.5  168.5 ]\n",
      "   [161.25 154.25 161.25]\n",
      "   ...\n",
      "   [178.   169.   172.  ]\n",
      "   [158.25 149.25 152.25]\n",
      "   [159.   150.   153.  ]]\n",
      "\n",
      "  [[164.5  157.5  164.5 ]\n",
      "   [167.   160.   167.  ]\n",
      "   [164.   157.   164.  ]\n",
      "   ...\n",
      "   [167.   158.   161.  ]\n",
      "   [163.   154.   157.  ]\n",
      "   [181.75 172.75 175.75]]\n",
      "\n",
      "  ...\n",
      "\n",
      "  [[160.   150.   149.  ]\n",
      "   [157.   147.   146.  ]\n",
      "   [152.5  142.5  141.5 ]\n",
      "   ...\n",
      "   [144.   130.   129.  ]\n",
      "   [135.75 121.75 120.75]\n",
      "   [141.5  127.5  126.5 ]]\n",
      "\n",
      "  [[153.5  143.5  142.5 ]\n",
      "   [154.5  144.5  143.5 ]\n",
      "   [158.5  148.5  147.5 ]\n",
      "   ...\n",
      "   [140.   126.   125.  ]\n",
      "   [149.5  135.5  134.5 ]\n",
      "   [131.5  117.5  116.5 ]]\n",
      "\n",
      "  [[159.   149.   148.  ]\n",
      "   [162.   152.   151.  ]\n",
      "   [159.75 149.75 148.75]\n",
      "   ...\n",
      "   [140.25 126.25 125.25]\n",
      "   [148.25 134.25 133.25]\n",
      "   [136.5  122.5  121.5 ]]]\n",
      "\n",
      "\n",
      " [[[ 62.25  63.25  58.25]\n",
      "   [ 64.5   65.5   60.5 ]\n",
      "   [ 63.75  64.75  59.75]\n",
      "   ...\n",
      "   [ 69.    75.    73.  ]\n",
      "   [ 69.    75.    73.  ]\n",
      "   [ 67.5   73.5   71.5 ]]\n",
      "\n",
      "  [[ 65.    66.    61.  ]\n",
      "   [ 69.75  70.75  65.75]\n",
      "   [ 68.25  69.25  64.25]\n",
      "   ...\n",
      "   [ 64.5   70.5   68.5 ]\n",
      "   [ 71.    77.    75.  ]\n",
      "   [ 68.25  74.25  72.25]]\n",
      "\n",
      "  [[ 62.    63.    58.  ]\n",
      "   [ 68.    69.    64.  ]\n",
      "   [ 68.75  69.75  64.75]\n",
      "   ...\n",
      "   [ 68.25  74.25  72.25]\n",
      "   [ 63.75  69.75  67.75]\n",
      "   [ 70.25  76.25  74.25]]\n",
      "\n",
      "  ...\n",
      "\n",
      "  [[ 98.5   93.5   90.5 ]\n",
      "   [ 97.25  92.25  89.25]\n",
      "   [ 98.75  93.75  90.75]\n",
      "   ...\n",
      "   [ 97.    97.    97.  ]\n",
      "   [ 93.5   93.5   93.5 ]\n",
      "   [ 95.25  95.25  95.25]]\n",
      "\n",
      "  [[ 94.25  89.25  86.25]\n",
      "   [ 86.5   81.5   78.5 ]\n",
      "   [ 97.25  92.25  89.25]\n",
      "   ...\n",
      "   [ 91.    91.    91.  ]\n",
      "   [ 86.75  86.75  86.75]\n",
      "   [ 88.    88.    88.  ]]\n",
      "\n",
      "  [[ 90.5   85.5   82.5 ]\n",
      "   [ 98.5   93.5   90.5 ]\n",
      "   [ 94.25  89.25  86.25]\n",
      "   ...\n",
      "   [ 93.25  93.25  93.25]\n",
      "   [ 90.25  90.25  90.25]\n",
      "   [ 92.    92.    92.  ]]]\n",
      "\n",
      "\n",
      " [[[197.75 197.75 199.75]\n",
      "   [198.75 198.75 200.75]\n",
      "   [194.25 194.25 196.25]\n",
      "   ...\n",
      "   [136.   132.   129.  ]\n",
      "   [127.25 123.25 120.25]\n",
      "   [127.5  123.5  120.5 ]]\n",
      "\n",
      "  [[198.75 198.75 200.75]\n",
      "   [198.   198.   200.  ]\n",
      "   [195.5  195.5  197.5 ]\n",
      "   ...\n",
      "   [135.25 131.25 128.25]\n",
      "   [113.75 109.75 106.75]\n",
      "   [111.25 107.25 104.25]]\n",
      "\n",
      "  [[195.25 195.25 197.25]\n",
      "   [192.75 192.75 194.75]\n",
      "   [193.5  193.5  195.5 ]\n",
      "   ...\n",
      "   [117.5  113.5  110.5 ]\n",
      "   [118.75 114.75 111.75]\n",
      "   [124.   120.   117.  ]]\n",
      "\n",
      "  ...\n",
      "\n",
      "  [[176.25 172.25 169.25]\n",
      "   [175.25 171.25 168.25]\n",
      "   [178.   174.   171.  ]\n",
      "   ...\n",
      "   [100.25  95.25  89.25]\n",
      "   [ 86.75  81.75  75.75]\n",
      "   [ 87.5   82.5   76.5 ]]\n",
      "\n",
      "  [[174.   170.   167.  ]\n",
      "   [172.   168.   165.  ]\n",
      "   [170.25 166.25 163.25]\n",
      "   ...\n",
      "   [ 92.25  87.25  81.25]\n",
      "   [ 84.25  79.25  73.25]\n",
      "   [ 86.25  81.25  75.25]]\n",
      "\n",
      "  [[165.75 161.75 158.75]\n",
      "   [166.75 162.75 159.75]\n",
      "   [167.25 163.25 160.25]\n",
      "   ...\n",
      "   [ 88.75  83.75  77.75]\n",
      "   [ 87.75  82.75  76.75]\n",
      "   [ 97.25  92.25  86.25]]]\n",
      "\n",
      "\n",
      " ...\n",
      "\n",
      "\n",
      " [[[169.25 168.25 164.25]\n",
      "   [171.75 170.75 166.75]\n",
      "   [172.75 171.75 167.75]\n",
      "   ...\n",
      "   [116.5  113.5  108.5 ]\n",
      "   [112.   109.   104.  ]\n",
      "   [108.75 105.75 100.75]]\n",
      "\n",
      "  [[171.75 170.75 166.75]\n",
      "   [169.25 168.25 164.25]\n",
      "   [168.25 167.25 163.25]\n",
      "   ...\n",
      "   [109.5  106.5  101.5 ]\n",
      "   [101.5   98.5   93.5 ]\n",
      "   [105.   102.    97.  ]]\n",
      "\n",
      "  [[171.75 170.75 166.75]\n",
      "   [169.25 168.25 164.25]\n",
      "   [168.25 167.25 163.25]\n",
      "   ...\n",
      "   [107.5  104.5   99.5 ]\n",
      "   [103.25 100.25  95.25]\n",
      "   [105.25 102.25  97.25]]\n",
      "\n",
      "  ...\n",
      "\n",
      "  [[132.5  137.5  143.5 ]\n",
      "   [130.25 135.25 141.25]\n",
      "   [129.75 134.75 140.75]\n",
      "   ...\n",
      "   [ 96.25  96.25  98.25]\n",
      "   [ 97.    97.    99.  ]\n",
      "   [ 92.5   92.5   94.5 ]]\n",
      "\n",
      "  [[136.5  141.5  147.5 ]\n",
      "   [134.   139.   145.  ]\n",
      "   [132.75 137.75 143.75]\n",
      "   ...\n",
      "   [ 98.    98.   100.  ]\n",
      "   [ 99.75  99.75 101.75]\n",
      "   [ 95.75  95.75  97.75]]\n",
      "\n",
      "  [[137.25 142.25 148.25]\n",
      "   [137.75 142.75 148.75]\n",
      "   [135.75 140.75 146.75]\n",
      "   ...\n",
      "   [ 96.25  96.25  98.25]\n",
      "   [ 98.5   98.5  100.5 ]\n",
      "   [ 94.75  94.75  96.75]]]\n",
      "\n",
      "\n",
      " [[[  0.     0.     0.  ]\n",
      "   [  0.     0.     0.  ]\n",
      "   [  0.     0.     0.  ]\n",
      "   ...\n",
      "   [  0.     0.     0.  ]\n",
      "   [  0.     0.     0.  ]\n",
      "   [  0.     0.     0.  ]]\n",
      "\n",
      "  [[  0.     0.     0.  ]\n",
      "   [  0.     0.     0.  ]\n",
      "   [  0.     0.     0.  ]\n",
      "   ...\n",
      "   [  0.     0.     0.  ]\n",
      "   [  0.     0.     0.  ]\n",
      "   [  0.     0.     0.  ]]\n",
      "\n",
      "  [[  0.     0.     0.  ]\n",
      "   [  0.     0.     0.  ]\n",
      "   [  0.     0.     0.  ]\n",
      "   ...\n",
      "   [  0.     0.     0.  ]\n",
      "   [  0.     0.     0.  ]\n",
      "   [  0.     0.     0.  ]]\n",
      "\n",
      "  ...\n",
      "\n",
      "  [[  0.     0.     0.  ]\n",
      "   [  0.     0.     0.  ]\n",
      "   [  0.     0.     0.  ]\n",
      "   ...\n",
      "   [  0.     0.     0.  ]\n",
      "   [  0.     0.     0.  ]\n",
      "   [  0.     0.     0.  ]]\n",
      "\n",
      "  [[  0.     0.     0.  ]\n",
      "   [  0.     0.     0.  ]\n",
      "   [  0.     0.     0.  ]\n",
      "   ...\n",
      "   [  0.     0.     0.  ]\n",
      "   [  0.     0.     0.  ]\n",
      "   [  0.     0.     0.  ]]\n",
      "\n",
      "  [[  0.     0.     0.  ]\n",
      "   [  0.     0.     0.  ]\n",
      "   [  0.     0.     0.  ]\n",
      "   ...\n",
      "   [  0.     0.     0.  ]\n",
      "   [  0.     0.     0.  ]\n",
      "   [  0.     0.     0.  ]]]\n",
      "\n",
      "\n",
      " [[[144.5  136.5  151.5 ]\n",
      "   [152.25 144.25 159.25]\n",
      "   [168.25 160.25 175.25]\n",
      "   ...\n",
      "   [152.5  141.5  155.5 ]\n",
      "   [156.25 145.25 159.25]\n",
      "   [154.25 143.25 157.25]]\n",
      "\n",
      "  [[145.25 137.25 152.25]\n",
      "   [142.25 134.25 149.25]\n",
      "   [137.5  129.5  144.5 ]\n",
      "   ...\n",
      "   [149.25 138.25 152.25]\n",
      "   [153.5  142.5  156.5 ]\n",
      "   [147.   136.   150.  ]]\n",
      "\n",
      "  [[150.   142.   157.  ]\n",
      "   [149.5  141.5  156.5 ]\n",
      "   [165.5  157.5  172.5 ]\n",
      "   ...\n",
      "   [151.   140.   154.  ]\n",
      "   [157.   146.   160.  ]\n",
      "   [144.   133.   147.  ]]\n",
      "\n",
      "  ...\n",
      "\n",
      "  [[132.25 120.25 134.25]\n",
      "   [132.5  120.5  134.5 ]\n",
      "   [132.75 120.75 134.75]\n",
      "   ...\n",
      "   [142.75 131.75 145.75]\n",
      "   [126.   115.   129.  ]\n",
      "   [136.   125.   139.  ]]\n",
      "\n",
      "  [[137.5  125.5  139.5 ]\n",
      "   [143.5  131.5  145.5 ]\n",
      "   [126.5  114.5  128.5 ]\n",
      "   ...\n",
      "   [139.25 128.25 142.25]\n",
      "   [144.25 133.25 147.25]\n",
      "   [133.75 122.75 136.75]]\n",
      "\n",
      "  [[135.75 123.75 137.75]\n",
      "   [143.   131.   145.  ]\n",
      "   [138.   126.   140.  ]\n",
      "   ...\n",
      "   [144.75 133.75 147.75]\n",
      "   [127.25 116.25 130.25]\n",
      "   [131.75 120.75 134.75]]]], shape=(32, 128, 128, 3), dtype=float32) (32, 128, 128, 3)\n",
      "tf.Tensor(\n",
      "[[0. 0. 0. ... 0. 0. 0.]\n",
      " [0. 0. 0. ... 0. 0. 0.]\n",
      " [0. 0. 0. ... 0. 0. 0.]\n",
      " ...\n",
      " [0. 0. 0. ... 1. 0. 0.]\n",
      " [0. 0. 0. ... 0. 0. 0.]\n",
      " [0. 0. 0. ... 0. 0. 0.]], shape=(32, 38), dtype=float32) (32, 38)\n"
     ]
    }
   ],
   "source": [
    "for x,y in training_set:\n",
    "    print(x,x.shape)\n",
    "    print(y,y.shape)\n",
    "    break"
   ]
  },
  {
   "cell_type": "markdown",
   "id": "ba0574cd",
   "metadata": {},
   "source": [
    "Building Model"
   ]
  },
  {
   "cell_type": "code",
   "execution_count": 39,
   "id": "a49567a6",
   "metadata": {},
   "outputs": [],
   "source": [
    "\n",
    "from keras.layers import Dense,Conv2D,MaxPool2D,Flatten,Dropout\n",
    "from keras.models import Sequential\n",
    "\n"
   ]
  },
  {
   "cell_type": "code",
   "execution_count": 40,
   "id": "2f12524c",
   "metadata": {},
   "outputs": [],
   "source": [
    "model = Sequential()"
   ]
  },
  {
   "cell_type": "markdown",
   "id": "a1aa39d9",
   "metadata": {},
   "source": [
    "###  To avoid overshooting\n",
    "\n",
    "1.Choose default learning rate as 0.0001\n",
    "\n",
    "2.There may be chance of underfitting, so increase the number of neurons\n",
    "\n",
    "3.Add more convolution layer to extrat more feature from images, there may be some posibility that model unable to capture relevent feature or model is confusing due to lack of feature. so feed with more feature.\n"
   ]
  },
  {
   "cell_type": "markdown",
   "id": "e51badae",
   "metadata": {},
   "source": [
    "## Building convalution Layer\n",
    "BUILD BY ITBIN-2211-0256"
   ]
  },
  {
   "cell_type": "code",
   "execution_count": 41,
   "id": "44b77713",
   "metadata": {},
   "outputs": [],
   "source": [
    "model.add(Conv2D(filters=32,kernel_size=3,padding='same',activation='relu', input_shape=(128, 128, 3)))\n",
    "model.add(Conv2D(filters=32,kernel_size=3,activation='relu'))\n",
    "model.add(MaxPool2D(pool_size=2,strides=2))"
   ]
  },
  {
   "cell_type": "code",
   "execution_count": 42,
   "id": "fcace08d",
   "metadata": {},
   "outputs": [],
   "source": [
    "model.add(Conv2D(filters=64,kernel_size=3,padding='same',activation='relu'))\n",
    "model.add(Conv2D(filters=64,kernel_size=3,activation='relu'))\n",
    "model.add(MaxPool2D(pool_size=2,strides=2))"
   ]
  },
  {
   "cell_type": "code",
   "execution_count": 43,
   "id": "7154140c",
   "metadata": {},
   "outputs": [],
   "source": [
    "model.add(Conv2D(filters=128,kernel_size=3,padding='same',activation='relu'))\n",
    "model.add(Conv2D(filters=128,kernel_size=3,activation='relu'))\n",
    "model.add(MaxPool2D(pool_size=2,strides=2))"
   ]
  },
  {
   "cell_type": "code",
   "execution_count": 44,
   "id": "aa65e7ca",
   "metadata": {},
   "outputs": [],
   "source": [
    "model.add(Conv2D(filters=256,kernel_size=3,padding='same',activation='relu'))\n",
    "model.add(Conv2D(filters=256,kernel_size=3,activation='relu'))\n",
    "model.add(MaxPool2D(pool_size=2,strides=2))"
   ]
  },
  {
   "cell_type": "code",
   "execution_count": 45,
   "id": "707ab1e3",
   "metadata": {},
   "outputs": [],
   "source": [
    "model.add(Conv2D(filters=512,kernel_size=3,padding='same',activation='relu'))\n",
    "model.add(Conv2D(filters=512,kernel_size=3,activation='relu'))\n",
    "model.add(MaxPool2D(pool_size=2,strides=2))"
   ]
  },
  {
   "cell_type": "code",
   "execution_count": 46,
   "id": "c5ccfe60",
   "metadata": {},
   "outputs": [],
   "source": [
    "model.add(Dropout(0.25)) # To avoid overfitting"
   ]
  },
  {
   "cell_type": "code",
   "execution_count": 47,
   "id": "c441af8b",
   "metadata": {},
   "outputs": [],
   "source": [
    "\n",
    "model.add(Flatten())\n",
    "\n"
   ]
  },
  {
   "cell_type": "code",
   "execution_count": 48,
   "id": "dbc73a98",
   "metadata": {},
   "outputs": [],
   "source": [
    "model.add(Dense(units=1500,activation='relu'))"
   ]
  },
  {
   "cell_type": "code",
   "execution_count": 49,
   "id": "87de6b9b",
   "metadata": {},
   "outputs": [],
   "source": [
    "model.add(Dropout(0.4))"
   ]
  },
  {
   "cell_type": "code",
   "execution_count": 50,
   "id": "6dee1085",
   "metadata": {},
   "outputs": [],
   "source": [
    "#Output layer\n",
    "model.add(Dense(units=38,activation='softmax'))"
   ]
  },
  {
   "cell_type": "markdown",
   "id": "2046548b",
   "metadata": {},
   "source": [
    "Compiling Model"
   ]
  },
  {
   "cell_type": "code",
   "execution_count": 51,
   "id": "0a9b6808",
   "metadata": {},
   "outputs": [],
   "source": [
    "model.compile(optimizer=tf.keras.optimizers.Adam(\n",
    "    learning_rate=0.0001),loss='categorical_crossentropy',metrics=['accuracy'])"
   ]
  },
  {
   "cell_type": "code",
   "execution_count": 52,
   "id": "fcc5e41a",
   "metadata": {},
   "outputs": [
    {
     "name": "stdout",
     "output_type": "stream",
     "text": [
      "Model: \"sequential_1\"\n",
      "_________________________________________________________________\n",
      " Layer (type)                Output Shape              Param #   \n",
      "=================================================================\n",
      " conv2d_10 (Conv2D)          (None, 128, 128, 32)      896       \n",
      "                                                                 \n",
      " conv2d_11 (Conv2D)          (None, 126, 126, 32)      9248      \n",
      "                                                                 \n",
      " max_pooling2d_5 (MaxPooling  (None, 63, 63, 32)       0         \n",
      " 2D)                                                             \n",
      "                                                                 \n",
      " conv2d_12 (Conv2D)          (None, 63, 63, 64)        18496     \n",
      "                                                                 \n",
      " conv2d_13 (Conv2D)          (None, 61, 61, 64)        36928     \n",
      "                                                                 \n",
      " max_pooling2d_6 (MaxPooling  (None, 30, 30, 64)       0         \n",
      " 2D)                                                             \n",
      "                                                                 \n",
      " conv2d_14 (Conv2D)          (None, 30, 30, 128)       73856     \n",
      "                                                                 \n",
      " conv2d_15 (Conv2D)          (None, 28, 28, 128)       147584    \n",
      "                                                                 \n",
      " max_pooling2d_7 (MaxPooling  (None, 14, 14, 128)      0         \n",
      " 2D)                                                             \n",
      "                                                                 \n",
      " conv2d_16 (Conv2D)          (None, 14, 14, 256)       295168    \n",
      "                                                                 \n",
      " conv2d_17 (Conv2D)          (None, 12, 12, 256)       590080    \n",
      "                                                                 \n",
      " max_pooling2d_8 (MaxPooling  (None, 6, 6, 256)        0         \n",
      " 2D)                                                             \n",
      "                                                                 \n",
      " conv2d_18 (Conv2D)          (None, 6, 6, 512)         1180160   \n",
      "                                                                 \n",
      " conv2d_19 (Conv2D)          (None, 4, 4, 512)         2359808   \n",
      "                                                                 \n",
      " max_pooling2d_9 (MaxPooling  (None, 2, 2, 512)        0         \n",
      " 2D)                                                             \n",
      "                                                                 \n",
      " dropout_2 (Dropout)         (None, 2, 2, 512)         0         \n",
      "                                                                 \n",
      " flatten_1 (Flatten)         (None, 2048)              0         \n",
      "                                                                 \n",
      " dense_2 (Dense)             (None, 1500)              3073500   \n",
      "                                                                 \n",
      " dropout_3 (Dropout)         (None, 1500)              0         \n",
      "                                                                 \n",
      " dense_3 (Dense)             (None, 38)                57038     \n",
      "                                                                 \n",
      "=================================================================\n",
      "Total params: 7,842,762\n",
      "Trainable params: 7,842,762\n",
      "Non-trainable params: 0\n",
      "_________________________________________________________________\n"
     ]
    }
   ],
   "source": [
    "model.summary()"
   ]
  },
  {
   "cell_type": "markdown",
   "id": "79e1aeac",
   "metadata": {},
   "source": [
    "## MODEL TRAINING \n",
    "\n",
    "### Model Trained by ITBIN-2211-0258\n"
   ]
  },
  {
   "cell_type": "code",
   "execution_count": 54,
   "id": "5a915c3f",
   "metadata": {},
   "outputs": [
    {
     "name": "stdout",
     "output_type": "stream",
     "text": [
      "Epoch 1/10\n",
      "2197/2197 [==============================] - 131s 56ms/step - loss: 1.4384 - accuracy: 0.5805 - val_loss: 0.6650 - val_accuracy: 0.7911\n",
      "Epoch 2/10\n",
      "2197/2197 [==============================] - 122s 55ms/step - loss: 0.4704 - accuracy: 0.8494 - val_loss: 0.4397 - val_accuracy: 0.8625\n",
      "Epoch 3/10\n",
      "2197/2197 [==============================] - 122s 56ms/step - loss: 0.2831 - accuracy: 0.9080 - val_loss: 0.2412 - val_accuracy: 0.9194\n",
      "Epoch 4/10\n",
      "2197/2197 [==============================] - 123s 56ms/step - loss: 0.1921 - accuracy: 0.9383 - val_loss: 0.1624 - val_accuracy: 0.9476\n",
      "Epoch 5/10\n",
      "2197/2197 [==============================] - 124s 56ms/step - loss: 0.1443 - accuracy: 0.9530 - val_loss: 0.1852 - val_accuracy: 0.9437\n",
      "Epoch 6/10\n",
      "2197/2197 [==============================] - 124s 57ms/step - loss: 0.1098 - accuracy: 0.9635 - val_loss: 0.1285 - val_accuracy: 0.9591\n",
      "Epoch 7/10\n",
      "2197/2197 [==============================] - 125s 57ms/step - loss: 0.0955 - accuracy: 0.9685 - val_loss: 0.1320 - val_accuracy: 0.9587\n",
      "Epoch 8/10\n",
      "2197/2197 [==============================] - 125s 57ms/step - loss: 0.0782 - accuracy: 0.9741 - val_loss: 0.1270 - val_accuracy: 0.9609\n",
      "Epoch 9/10\n",
      "2197/2197 [==============================] - 125s 57ms/step - loss: 0.0686 - accuracy: 0.9773 - val_loss: 0.1095 - val_accuracy: 0.9671\n",
      "Epoch 10/10\n",
      "2197/2197 [==============================] - 125s 57ms/step - loss: 0.0574 - accuracy: 0.9815 - val_loss: 0.1207 - val_accuracy: 0.9653\n"
     ]
    }
   ],
   "source": [
    "training_history = model.fit(x=training_set,validation_data=validation_set,epochs=10)"
   ]
  },
  {
   "cell_type": "markdown",
   "id": "3b9d1ec4",
   "metadata": {},
   "source": [
    "## Model Saving\n",
    "\n",
    "### Model Saved by ITBIN-2211-0258"
   ]
  },
  {
   "cell_type": "code",
   "execution_count": 28,
   "id": "8101f679",
   "metadata": {},
   "outputs": [],
   "source": [
    "model.save(\"trained_model.keras\")"
   ]
  },
  {
   "cell_type": "code",
   "execution_count": 55,
   "id": "2cacc532",
   "metadata": {},
   "outputs": [
    {
     "data": {
      "text/plain": [
       "{'loss': [1.438422441482544,\n",
       "  0.47040873765945435,\n",
       "  0.28311365842819214,\n",
       "  0.19207663834095,\n",
       "  0.14433155953884125,\n",
       "  0.10983818024396896,\n",
       "  0.09550637751817703,\n",
       "  0.07818663865327835,\n",
       "  0.06855287402868271,\n",
       "  0.05742232874035835],\n",
       " 'accuracy': [0.5804679989814758,\n",
       "  0.8494487404823303,\n",
       "  0.9080304503440857,\n",
       "  0.9382601976394653,\n",
       "  0.9530407786369324,\n",
       "  0.963454008102417,\n",
       "  0.9684756994247437,\n",
       "  0.9740521907806396,\n",
       "  0.9772956967353821,\n",
       "  0.9815492033958435],\n",
       " 'val_loss': [0.664996862411499,\n",
       "  0.4396786093711853,\n",
       "  0.24124664068222046,\n",
       "  0.16241614520549774,\n",
       "  0.18520338833332062,\n",
       "  0.12849436700344086,\n",
       "  0.13195692002773285,\n",
       "  0.1269971877336502,\n",
       "  0.10947848111391068,\n",
       "  0.12067609280347824],\n",
       " 'val_accuracy': [0.7910881042480469,\n",
       "  0.8625085353851318,\n",
       "  0.919360339641571,\n",
       "  0.9475870728492737,\n",
       "  0.9437173008918762,\n",
       "  0.9590826034545898,\n",
       "  0.9587411880493164,\n",
       "  0.9609037041664124,\n",
       "  0.9671067595481873,\n",
       "  0.9652856588363647]}"
      ]
     },
     "execution_count": 55,
     "metadata": {},
     "output_type": "execute_result"
    }
   ],
   "source": [
    "training_history.history"
   ]
  },
  {
   "cell_type": "code",
   "execution_count": 56,
   "id": "754f66d4",
   "metadata": {},
   "outputs": [],
   "source": [
    "# Recording history in json\n",
    "import json\n",
    "with open(\"training_hist.json\",\"w\") as f:\n",
    "    json.dump(training_history.history,f)"
   ]
  },
  {
   "cell_type": "markdown",
   "id": "aa54b8a1",
   "metadata": {},
   "source": [
    "## Data visualization\n",
    "\n",
    "### visualized by ITBIN-2211-0286\n",
    "\n",
    "#### 1.Accuracy Visualization"
   ]
  },
  {
   "cell_type": "code",
   "execution_count": 57,
   "id": "00255cd2",
   "metadata": {},
   "outputs": [
    {
     "data": {
      "text/plain": [
       "[0.5804679989814758,\n",
       " 0.8494487404823303,\n",
       " 0.9080304503440857,\n",
       " 0.9382601976394653,\n",
       " 0.9530407786369324,\n",
       " 0.963454008102417,\n",
       " 0.9684756994247437,\n",
       " 0.9740521907806396,\n",
       " 0.9772956967353821,\n",
       " 0.9815492033958435]"
      ]
     },
     "execution_count": 57,
     "metadata": {},
     "output_type": "execute_result"
    }
   ],
   "source": [
    "training_history.history['accuracy']"
   ]
  },
  {
   "cell_type": "code",
   "execution_count": 60,
   "id": "717630e9",
   "metadata": {},
   "outputs": [
    {
     "data": {
      "text/plain": [
       "[0.7910881042480469,\n",
       " 0.8625085353851318,\n",
       " 0.919360339641571,\n",
       " 0.9475870728492737,\n",
       " 0.9437173008918762,\n",
       " 0.9590826034545898,\n",
       " 0.9587411880493164,\n",
       " 0.9609037041664124,\n",
       " 0.9671067595481873,\n",
       " 0.9652856588363647]"
      ]
     },
     "execution_count": 60,
     "metadata": {},
     "output_type": "execute_result"
    }
   ],
   "source": [
    "training_history.history['val_accuracy']"
   ]
  },
  {
   "cell_type": "code",
   "execution_count": 64,
   "id": "3a1b4760",
   "metadata": {},
   "outputs": [
    {
     "data": {
      "image/png": "[encoded data removed]",
      "text/plain": [
       "<Figure size 640x480 with 1 Axes>"
      ]
     },
     "metadata": {},
     "output_type": "display_data"
    }
   ],
   "source": [
    "epochs = [i for i in range (1,11)]\n",
    "plt.plot(epochs,training_history.history['accuracy'],color='red',label='training_accuracy')\n",
    "plt.plot(epochs,training_history.history['val_accuracy'],color='blue',label='validation accuracy')\n",
    "plt.xlabel(\"No. of epochs\")\n",
    "plt.ylabel(\"Accuracy Result\")\n",
    "plt.title(\"Visualisation of Accuracy Results\")\n",
    "plt.legend()\n",
    "plt.show()"
   ]
  }
 ],
 "metadata": {
  "kernelspec": {
   "display_name": "tensorflow_env",
   "language": "python",
   "name": "python3"
  },
  "language_info": {
   "codemirror_mode": {
    "name": "ipython",
    "version": 3
   },
   "file_extension": ".py",
   "mimetype": "text/x-python",
   "name": "python",
   "nbconvert_exporter": "python",
   "pygments_lexer": "ipython3",
   "version": "3.10.18"
  }
 },
 "nbformat": 4,
 "nbformat_minor": 5
}
